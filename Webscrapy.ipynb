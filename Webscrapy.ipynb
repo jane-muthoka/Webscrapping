{
 "cells": [
  {
   "cell_type": "markdown",
   "id": "11f8d874",
   "metadata": {},
   "source": [
    "<h1 style=\"color:blue\"> Webscrapping in Ecommerce</h1>"
   ]
  },
  {
   "cell_type": "markdown",
   "id": "f2f200d5",
   "metadata": {},
   "source": [
    "![Alt text](ecommerce.jpg)\n",
    "This is part of data collection project using **Beautiful Soup** .\n",
    "While web scraping offers numerous advantages, it's essential to use it responsibly and ethically. Always review and comply with the website's terms of service and robots.txt file, and avoid overloading the target server with excessive requests (to prevent causing strain or disruption). Additionally, some websites may have legal or ethical restrictions on data scraping, so it's crucial to ensure you have proper authorization before scraping data from any website."
   ]
  },
  {
   "cell_type": "code",
   "execution_count": 2,
   "id": "00a1020f",
   "metadata": {},
   "outputs": [
    {
     "name": "stdout",
     "output_type": "stream",
     "text": [
      "Requirement already satisfied: jsoup in c:\\users\\janem\\anaconda3\\lib\\site-packages (0.0.1)\n",
      "Requirement already satisfied: beautifulsoup4==4.9.3 in c:\\users\\janem\\anaconda3\\lib\\site-packages (from jsoup) (4.9.3)\n",
      "Requirement already satisfied: soupsieve>1.2 in c:\\users\\janem\\anaconda3\\lib\\site-packages (from beautifulsoup4==4.9.3->jsoup) (2.3.1)\n"
     ]
    }
   ],
   "source": [
    "#Import the libraries to prepare the environment\n",
    "import pandas as pd\n",
    "from bs4 import BeautifulSoup\n",
    "import requests\n",
    "!pip install jsoup"
   ]
  },
  {
   "cell_type": "code",
   "execution_count": 3,
   "id": "3253ecdc",
   "metadata": {},
   "outputs": [],
   "source": [
    "\n",
    "\n",
    "# Create an empty list to store the product information from all pages\n",
    "all_products = []\n",
    "\n",
    "# Loop through the pages (assuming you have 50 pages)\n",
    "for page in range(1, 51):\n",
    "    url = \"https://www.jumia.co.ke/all-products/\" + \"?page=\" + str(page) + \"#catalog-listing\"\n",
    "    furl = requests.get(url)\n",
    "    jsoup = BeautifulSoup(furl.content, 'html.parser')\n",
    "    products = jsoup.find_all('div', class_='info')\n",
    "\n",
    "    for product in products:\n",
    "        Name = product.find('h3', class_=\"name\").text.replace('\\n', '')\n",
    "        Price = product.find('div', class_=\"prc\").text.replace('\\n', '')\n",
    "        try:\n",
    "            Rating = product.find('div', class_='stars _s').text.replace('\\n', '')\n",
    "        except:\n",
    "            Rating = 'None'\n",
    "\n",
    "        info = [Name, Price, Rating]\n",
    "        all_products.append(info)\n",
    "\n",
    "# Convert the list of products into a DataFrame\n",
    "df = pd.DataFrame(all_products, columns=['Product Name', 'Price', 'Rating'])\n",
    "\n",
    "# Save the DataFrame to a CSV file without the index column\n",
    "df.to_csv('products.csv', index=False, encoding='utf-8')\n"
   ]
  },
  {
   "cell_type": "code",
   "execution_count": 4,
   "id": "d52ac0eb",
   "metadata": {},
   "outputs": [
    {
     "data": {
      "text/html": [
       "<div>\n",
       "<style scoped>\n",
       "    .dataframe tbody tr th:only-of-type {\n",
       "        vertical-align: middle;\n",
       "    }\n",
       "\n",
       "    .dataframe tbody tr th {\n",
       "        vertical-align: top;\n",
       "    }\n",
       "\n",
       "    .dataframe thead th {\n",
       "        text-align: right;\n",
       "    }\n",
       "</style>\n",
       "<table border=\"1\" class=\"dataframe\">\n",
       "  <thead>\n",
       "    <tr style=\"text-align: right;\">\n",
       "      <th></th>\n",
       "      <th>Product Name</th>\n",
       "      <th>Price</th>\n",
       "      <th>Rating</th>\n",
       "    </tr>\n",
       "  </thead>\n",
       "  <tbody>\n",
       "    <tr>\n",
       "      <th>0</th>\n",
       "      <td>Fashion 2 In1 Watch Fashion Rhinestone Wrist W...</td>\n",
       "      <td>KSh 760</td>\n",
       "      <td>3.8 out of 5</td>\n",
       "    </tr>\n",
       "    <tr>\n",
       "      <th>1</th>\n",
       "      <td>Generic Silicone Heat Resistant Oil Basting Pa...</td>\n",
       "      <td>KSh 340 - KSh 550</td>\n",
       "      <td>4.5 out of 5</td>\n",
       "    </tr>\n",
       "    <tr>\n",
       "      <th>2</th>\n",
       "      <td>Minute Maid Minute Maid Mango Delight Juice - ...</td>\n",
       "      <td>KSh 1,556</td>\n",
       "      <td>5 out of 5</td>\n",
       "    </tr>\n",
       "    <tr>\n",
       "      <th>3</th>\n",
       "      <td>Generic 5 PCS Wooden Clipboard / Exam Board</td>\n",
       "      <td>KSh 1,599</td>\n",
       "      <td>None</td>\n",
       "    </tr>\n",
       "    <tr>\n",
       "      <th>4</th>\n",
       "      <td>XIAOMI Redmi 12C, 6.71\",DISPLAY,(3GB+64GB)WATC...</td>\n",
       "      <td>KSh 14,599</td>\n",
       "      <td>None</td>\n",
       "    </tr>\n",
       "  </tbody>\n",
       "</table>\n",
       "</div>"
      ],
      "text/plain": [
       "                                        Product Name              Price  \\\n",
       "0  Fashion 2 In1 Watch Fashion Rhinestone Wrist W...            KSh 760   \n",
       "1  Generic Silicone Heat Resistant Oil Basting Pa...  KSh 340 - KSh 550   \n",
       "2  Minute Maid Minute Maid Mango Delight Juice - ...          KSh 1,556   \n",
       "3        Generic 5 PCS Wooden Clipboard / Exam Board          KSh 1,599   \n",
       "4  XIAOMI Redmi 12C, 6.71\",DISPLAY,(3GB+64GB)WATC...         KSh 14,599   \n",
       "\n",
       "         Rating  \n",
       "0  3.8 out of 5  \n",
       "1  4.5 out of 5  \n",
       "2    5 out of 5  \n",
       "3          None  \n",
       "4          None  "
      ]
     },
     "execution_count": 4,
     "metadata": {},
     "output_type": "execute_result"
    }
   ],
   "source": [
    "#lets view the data\n",
    "df.head()"
   ]
  },
  {
   "cell_type": "markdown",
   "id": "a945c596",
   "metadata": {},
   "source": [
    "<h1 style=\"color:blue\"> The End</h1>"
   ]
  }
 ],
 "metadata": {
  "kernelspec": {
   "display_name": "Python 3 (ipykernel)",
   "language": "python",
   "name": "python3"
  },
  "language_info": {
   "codemirror_mode": {
    "name": "ipython",
    "version": 3
   },
   "file_extension": ".py",
   "mimetype": "text/x-python",
   "name": "python",
   "nbconvert_exporter": "python",
   "pygments_lexer": "ipython3",
   "version": "3.9.13"
  }
 },
 "nbformat": 4,
 "nbformat_minor": 5
}
